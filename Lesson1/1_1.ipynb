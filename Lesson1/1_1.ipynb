{
 "cells": [
  {
   "cell_type": "code",
   "execution_count": 1,
   "metadata": {},
   "outputs": [],
   "source": [
    "import requests\n",
    "import getpass\n",
    "import json"
   ]
  },
  {
   "cell_type": "code",
   "execution_count": 2,
   "metadata": {},
   "outputs": [
    {
     "name": "stdout",
     "output_type": "stream",
     "text": [
      "Введите логин: Nafanjia\n",
      "········\n"
     ]
    }
   ],
   "source": [
    "username = input('Введите логин: ')\n",
    "password = getpass.getpass()"
   ]
  },
  {
   "cell_type": "code",
   "execution_count": 3,
   "metadata": {},
   "outputs": [],
   "source": [
    "r = requests.get('https://api.github.com/user', auth=(username, password))"
   ]
  },
  {
   "cell_type": "code",
   "execution_count": 4,
   "metadata": {},
   "outputs": [
    {
     "data": {
      "text/plain": [
       "{'login': 'Nafanjia',\n",
       " 'id': 40601489,\n",
       " 'node_id': 'MDQ6VXNlcjQwNjAxNDg5',\n",
       " 'avatar_url': 'https://avatars1.githubusercontent.com/u/40601489?v=4',\n",
       " 'gravatar_id': '',\n",
       " 'url': 'https://api.github.com/users/Nafanjia',\n",
       " 'html_url': 'https://github.com/Nafanjia',\n",
       " 'followers_url': 'https://api.github.com/users/Nafanjia/followers',\n",
       " 'following_url': 'https://api.github.com/users/Nafanjia/following{/other_user}',\n",
       " 'gists_url': 'https://api.github.com/users/Nafanjia/gists{/gist_id}',\n",
       " 'starred_url': 'https://api.github.com/users/Nafanjia/starred{/owner}{/repo}',\n",
       " 'subscriptions_url': 'https://api.github.com/users/Nafanjia/subscriptions',\n",
       " 'organizations_url': 'https://api.github.com/users/Nafanjia/orgs',\n",
       " 'repos_url': 'https://api.github.com/users/Nafanjia/repos',\n",
       " 'events_url': 'https://api.github.com/users/Nafanjia/events{/privacy}',\n",
       " 'received_events_url': 'https://api.github.com/users/Nafanjia/received_events',\n",
       " 'type': 'User',\n",
       " 'site_admin': False,\n",
       " 'name': None,\n",
       " 'company': None,\n",
       " 'blog': '',\n",
       " 'location': None,\n",
       " 'email': None,\n",
       " 'hireable': None,\n",
       " 'bio': None,\n",
       " 'public_repos': 5,\n",
       " 'public_gists': 0,\n",
       " 'followers': 0,\n",
       " 'following': 0,\n",
       " 'created_at': '2018-06-26T12:50:58Z',\n",
       " 'updated_at': '2019-12-24T08:25:29Z',\n",
       " 'private_gists': 0,\n",
       " 'total_private_repos': 0,\n",
       " 'owned_private_repos': 0,\n",
       " 'disk_usage': 13229,\n",
       " 'collaborators': 0,\n",
       " 'two_factor_authentication': False,\n",
       " 'plan': {'name': 'free',\n",
       "  'space': 976562499,\n",
       "  'collaborators': 0,\n",
       "  'private_repos': 10000}}"
      ]
     },
     "execution_count": 4,
     "metadata": {},
     "output_type": "execute_result"
    }
   ],
   "source": [
    "r.json()"
   ]
  },
  {
   "cell_type": "code",
   "execution_count": 5,
   "metadata": {},
   "outputs": [],
   "source": [
    "repos = requests.get('https://api.github.com/user/repos', auth=(username, password))"
   ]
  },
  {
   "cell_type": "code",
   "execution_count": 6,
   "metadata": {},
   "outputs": [
    {
     "data": {
      "text/plain": [
       "['Baikal', 'Data-Science', 'DataBases', 'Elementary_algebra', 'GB_data_mining']"
      ]
     },
     "execution_count": 6,
     "metadata": {},
     "output_type": "execute_result"
    }
   ],
   "source": [
    "repo = []\n",
    "i = 0\n",
    "while True:\n",
    "    try:\n",
    "        repo.append(repos.json()[i]['name'])\n",
    "        i += 1\n",
    "    except:\n",
    "        break\n",
    "repo"
   ]
  },
  {
   "cell_type": "code",
   "execution_count": 7,
   "metadata": {},
   "outputs": [],
   "source": [
    "with open('my_repos.json', 'w') as f:\n",
    "    json.dump(repo, f)"
   ]
  },
  {
   "cell_type": "code",
   "execution_count": 8,
   "metadata": {},
   "outputs": [
    {
     "name": "stdout",
     "output_type": "stream",
     "text": [
      "['Baikal', 'Data-Science', 'DataBases', 'Elementary_algebra', 'GB_data_mining']\n"
     ]
    }
   ],
   "source": [
    "with open('my_repos.json') as f:\n",
    "    rep = json.load(f)\n",
    "    print(rep)"
   ]
  }
 ],
 "metadata": {
  "kernelspec": {
   "display_name": "Python 3",
   "language": "python",
   "name": "python3"
  },
  "language_info": {
   "codemirror_mode": {
    "name": "ipython",
    "version": 3
   },
   "file_extension": ".py",
   "mimetype": "text/x-python",
   "name": "python",
   "nbconvert_exporter": "python",
   "pygments_lexer": "ipython3",
   "version": "3.7.3"
  }
 },
 "nbformat": 4,
 "nbformat_minor": 2
}
